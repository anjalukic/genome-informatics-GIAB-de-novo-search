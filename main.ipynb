{
 "cells": [
  {
   "cell_type": "code",
   "execution_count": 58,
   "id": "3b4d8e99",
   "metadata": {},
   "outputs": [],
   "source": [
    "from pysam import VariantFile"
   ]
  },
  {
   "cell_type": "code",
   "execution_count": 59,
   "id": "4ccb953b",
   "metadata": {},
   "outputs": [],
   "source": [
    "childVCF = VariantFile(\"HG002-NA24385-50x_filtered.vcf\")\n",
    "fatherVCF = VariantFile(\"HG003.hs37d5.60x.1.converted_filtered.vcf\")\n",
    "motherVCF = VariantFile(\"HG004.hs37d5.60x.1.converted_filtered.vcf\")\n",
    "childDeNovoVCF = VariantFile('temp.vcf', 'w', header=childVCF.header)"
   ]
  },
  {
   "cell_type": "code",
   "execution_count": 60,
   "id": "1255b7d5",
   "metadata": {},
   "outputs": [],
   "source": [
    "def writeToChildDeNovo(condition, variant):\n",
    "    if condition: \n",
    "        childDeNovoVCF.write(variant)"
   ]
  },
  {
   "cell_type": "code",
   "execution_count": 61,
   "id": "8a004236",
   "metadata": {},
   "outputs": [],
   "source": [
    "def checkDeNovoOnExistingVariants(childVariant, fatherVariant, motherVariant):\n",
    "    if motherVariant is None:\n",
    "        return False\n",
    "        #return caseSingle(childVariant, fatherVariant)#---------------------------\n",
    "    if fatherVariant is None:\n",
    "        return False\n",
    "        #return caseSingle(childVariant, motherVariant)#------------------\n",
    "    \n",
    "    #both parents and the child have a variation on the same position\n",
    "    \n",
    "    motherGT = next(motherVariant.samples.itervalues())['GT']\n",
    "    fatherGT = next(fatherVariant.samples.itervalues())['GT']\n",
    "    childGT = next(childVariant.samples.itervalues())['GT']\n",
    "    gt00 = (0,0)\n",
    "    gt01 = (0,1)\n",
    "    gt11 = (1,1)\n",
    "    gt12 = (1,2)\n",
    "    \n",
    "    if motherGT == gt01 and fatherGT == gt01:\n",
    "        #child has the same variant as one parent on one chromosome\n",
    "        if childGT == gt01 and (childVariant.ref == motherVariant.ref and childVariant.alts == motherVariant.alts\n",
    "                                or childVariant.ref == fatherVariant.ref and childVariant.alts == fatherVariant.alts):\n",
    "            return False\n",
    "        #both parents have the same (common) variant and the child got it from both parents (on both chromosomes)\n",
    "        if childGT == gt11 and (childVariant.ref == motherVariant.ref and childVariant.alts == motherVariant.alts\n",
    "                                and childVariant.ref == fatherVariant.ref and childVariant.alts == fatherVariant.alts): \n",
    "            return False\n",
    "        #child got both parents' variants\n",
    "        #-----------------------------------------special case if refs are different\n",
    "        if childGT == gt12 and (childVariant.ref == motherVariant.ref and childVariant.ref == fatherVariant.ref\n",
    "                                and (childVariant.alts[0] == motherVariant.alts[0] and childVariant.alts[1] == fatherVariant.alts[0]\n",
    "                                     or childVariant.alts[0] == fatherVariant.alts[0] and childVariant.alts[1] == motherVariant.alts[0])): \n",
    "            return False\n",
    "        return True\n",
    "    if motherGT == gt01 and fatherGT == gt11:\n",
    "        return False"
   ]
  },
  {
   "cell_type": "code",
   "execution_count": 62,
   "id": "8aa84e4d",
   "metadata": {},
   "outputs": [],
   "source": [
    "def findDeNovoVariants():\n",
    "    fatherVariant = next(fatherVCF.fetch())\n",
    "    motherVariant = next(motherVCF.fetch())\n",
    "    for childVariant in childVCF.fetch():\n",
    "        if childVariant.chrom != \"chr1\": return\n",
    "        #child variant pos is greater than at least one of this parents\n",
    "        #iterate through parents variants until you reach child pos\n",
    "        while childVariant.pos>motherVariant.pos or childVariant.pos>fatherVariant.pos:\n",
    "            #if both parents have a variation on the same pos, but child doesnt\n",
    "            if motherVariant.pos == fatherVariant.pos:\n",
    "                #special case ----------------------------------- case 4\n",
    "                fatherVariant = next(fatherVCF, None)\n",
    "                motherVariant = next(motherVCF, None)\n",
    "                continue\n",
    "            #both parents are smaller and one is smaller than other\n",
    "            #or one parent is smaller and one parent is greater than or equal to child\n",
    "            if motherVariant.pos < fatherVariant.pos:\n",
    "                #case 3\n",
    "                #writeToChildDeNovo(checkHereditaryVariant(childVariant, None, MotherVariant),childVariant)---------------------\n",
    "                motherVariant = next(motherVCF, None)\n",
    "            else :\n",
    "                #case 3\n",
    "                #writeToChildDeNovo(checkHereditaryVariant(childVariant, fatherVariant, None),childVariant)---------------------\n",
    "                fatherVariant = next(fatherVCF, None)          \n",
    "        \n",
    "        #at this point, child is <= than both parents\n",
    "        \n",
    "        # if child pos is smaller than both parents' pos, that's a deNovo variation\n",
    "        #this variant doesnt exist in mother or father\n",
    "        if childVariant.pos<motherVariant.pos and childVariant.pos<fatherVariant.pos:\n",
    "            writeToChildDeNovo(True, childVariant)\n",
    "            continue\n",
    "         \n",
    "        #at this point, child is either equal to both parents or smaller than one and equal to other\n",
    "        \n",
    "        if childVariant.pos<motherVariant.pos:\n",
    "            #child pos is equal to father\n",
    "            #father and child have a variation on the same position\n",
    "            #case 2\n",
    "            writeToChildDeNovo(checkDeNovoOnExistingVariants(childVariant, fatherVariant, None),childVariant)\n",
    "            fatherVariant = next(fatherVCF, None)\n",
    "            continue\n",
    "        \n",
    "        if childVariant.pos<fatherVariant.pos:\n",
    "            #child pos is equal to mother\n",
    "            #mother and child have a variation on the same position\n",
    "            #case 2\n",
    "            writeToChildDeNovo(checkDeNovoOnExistingVariants(childVariant, None, motherVariant),childVariant)#--------\n",
    "            motherVariant = next(motherVCF, None)\n",
    "            continue\n",
    "        \n",
    "        #only option left - all three have a variation on the same position\n",
    "        #case 1\n",
    "        writeToChildDeNovo(checkDeNovoOnExistingVariants(childVariant, fatherVariant, motherVariant),childVariant) #---------------\n",
    "        fatherVariant = next(fatherVCF, None)\n",
    "        motherVariant = next(motherVCF, None)"
   ]
  },
  {
   "cell_type": "code",
   "execution_count": 49,
   "id": "f8eccfd3",
   "metadata": {},
   "outputs": [
    {
     "name": "stdout",
     "output_type": "stream",
     "text": [
      "C\n",
      "('CT',)\n",
      "(1, 1)\n",
      "True\n"
     ]
    }
   ],
   "source": [
    "for rec in motherVCF.fetch():\n",
    "    print(rec.ref)\n",
    "    print(rec.alts)\n",
    "    print (next(rec.samples.itervalues())['GT'])\n",
    "    print (next(rec.samples.itervalues())['GT'] == (1,1))\n",
    "    break"
   ]
  },
  {
   "cell_type": "code",
   "execution_count": 63,
   "id": "3fa2ed08",
   "metadata": {},
   "outputs": [
    {
     "ename": "AttributeError",
     "evalue": "'NoneType' object has no attribute 'pos'",
     "output_type": "error",
     "traceback": [
      "\u001b[0;31m---------------------------------------------------------------------------\u001b[0m",
      "\u001b[0;31mAttributeError\u001b[0m                            Traceback (most recent call last)",
      "\u001b[0;32m<ipython-input-63-1fd82732e131>\u001b[0m in \u001b[0;36m<module>\u001b[0;34m\u001b[0m\n\u001b[0;32m----> 1\u001b[0;31m \u001b[0mfindDeNovoVariants\u001b[0m\u001b[0;34m(\u001b[0m\u001b[0;34m)\u001b[0m\u001b[0;34m\u001b[0m\u001b[0;34m\u001b[0m\u001b[0m\n\u001b[0m",
      "\u001b[0;32m<ipython-input-62-30d6d77cffde>\u001b[0m in \u001b[0;36mfindDeNovoVariants\u001b[0;34m()\u001b[0m\n\u001b[1;32m      6\u001b[0m         \u001b[0;31m#child variant pos is greater than at least one of this parents\u001b[0m\u001b[0;34m\u001b[0m\u001b[0;34m\u001b[0m\u001b[0;34m\u001b[0m\u001b[0m\n\u001b[1;32m      7\u001b[0m         \u001b[0;31m#iterate through parents variants until you reach child pos\u001b[0m\u001b[0;34m\u001b[0m\u001b[0;34m\u001b[0m\u001b[0;34m\u001b[0m\u001b[0m\n\u001b[0;32m----> 8\u001b[0;31m         \u001b[0;32mwhile\u001b[0m \u001b[0mchildVariant\u001b[0m\u001b[0;34m.\u001b[0m\u001b[0mpos\u001b[0m\u001b[0;34m>\u001b[0m\u001b[0mmotherVariant\u001b[0m\u001b[0;34m.\u001b[0m\u001b[0mpos\u001b[0m \u001b[0;32mor\u001b[0m \u001b[0mchildVariant\u001b[0m\u001b[0;34m.\u001b[0m\u001b[0mpos\u001b[0m\u001b[0;34m>\u001b[0m\u001b[0mfatherVariant\u001b[0m\u001b[0;34m.\u001b[0m\u001b[0mpos\u001b[0m\u001b[0;34m:\u001b[0m\u001b[0;34m\u001b[0m\u001b[0;34m\u001b[0m\u001b[0m\n\u001b[0m\u001b[1;32m      9\u001b[0m             \u001b[0;31m#if both parents have a variation on the same pos, but child doesnt\u001b[0m\u001b[0;34m\u001b[0m\u001b[0;34m\u001b[0m\u001b[0;34m\u001b[0m\u001b[0m\n\u001b[1;32m     10\u001b[0m             \u001b[0;32mif\u001b[0m \u001b[0mmotherVariant\u001b[0m\u001b[0;34m.\u001b[0m\u001b[0mpos\u001b[0m \u001b[0;34m==\u001b[0m \u001b[0mfatherVariant\u001b[0m\u001b[0;34m.\u001b[0m\u001b[0mpos\u001b[0m\u001b[0;34m:\u001b[0m\u001b[0;34m\u001b[0m\u001b[0;34m\u001b[0m\u001b[0m\n",
      "\u001b[0;31mAttributeError\u001b[0m: 'NoneType' object has no attribute 'pos'"
     ]
    }
   ],
   "source": [
    "findDeNovoVariants()"
   ]
  },
  {
   "cell_type": "code",
   "execution_count": null,
   "id": "329d1f40",
   "metadata": {},
   "outputs": [],
   "source": []
  }
 ],
 "metadata": {
  "kernelspec": {
   "display_name": "Python 3",
   "language": "python",
   "name": "python3"
  },
  "language_info": {
   "codemirror_mode": {
    "name": "ipython",
    "version": 3
   },
   "file_extension": ".py",
   "mimetype": "text/x-python",
   "name": "python",
   "nbconvert_exporter": "python",
   "pygments_lexer": "ipython3",
   "version": "3.8.5"
  }
 },
 "nbformat": 4,
 "nbformat_minor": 5
}
