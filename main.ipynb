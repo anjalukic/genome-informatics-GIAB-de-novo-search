{
 "cells": [
  {
   "cell_type": "code",
   "execution_count": 84,
   "id": "606ae6b5",
   "metadata": {},
   "outputs": [],
   "source": [
    "from pysam import VariantFile"
   ]
  },
  {
   "cell_type": "code",
   "execution_count": 85,
   "id": "a45358d8",
   "metadata": {},
   "outputs": [],
   "source": [
    "childVCF = VariantFile(\"HG002-NA24385-50x_filtered.vcf\")\n",
    "fatherVCF = VariantFile(\"HG003.hs37d5.60x.1.converted_filtered.vcf\")\n",
    "motherVCF = VariantFile(\"HG004.hs37d5.60x.1.converted_filtered.vcf\")"
   ]
  },
  {
   "cell_type": "code",
   "execution_count": 86,
   "id": "4c24118c",
   "metadata": {},
   "outputs": [],
   "source": [
    "def findMaxChromPos(VCFs):\n",
    "    maxPos = 0\n",
    "    for vcf in VCFs:  \n",
    "        for rec in vcf.fetch():\n",
    "            maxPos = max(maxPos, rec.pos)\n",
    "    return maxPos, len(str(abs(maxPos)))"
   ]
  },
  {
   "cell_type": "code",
   "execution_count": 87,
   "id": "86454ae7",
   "metadata": {},
   "outputs": [],
   "source": [
    "#VCFs = (childVCF, fatherVCF, motherVCF)\n",
    "#count, digits = findMaxChromPos(VCFs)\n",
    "#print(\"Maximum position among all chromosomes: \" + str(count) + \", number of digits: \" + str(digits))"
   ]
  },
  {
   "cell_type": "code",
   "execution_count": 88,
   "id": "d278b0e8",
   "metadata": {},
   "outputs": [],
   "source": [
    "# check if there's a variation which returns child to reference genome"
   ]
  },
  {
   "cell_type": "code",
   "execution_count": 89,
   "id": "48636434",
   "metadata": {},
   "outputs": [],
   "source": [
    "def checkPosIntersection(childVariant, parentVariant):  \n",
    "    \n",
    "    if childVariant.ref != parentVariant.ref:\n",
    "        return False, None\n",
    "    \n",
    "    childGT = next(childVariant.samples.itervalues())['GT']\n",
    "    parentGT = next(parentVariant.samples.itervalues())['GT']\n",
    "    gt01 = (0,1)\n",
    "    gt11 = (1,1)\n",
    "    gt12 = (1,2)\n",
    "    childALT = childVariant.alts\n",
    "    parentALT = parentVariant.alts\n",
    "    \n",
    "    if parentGT == gt01:\n",
    "        # parent has 0/1 genotype, child has 0/1 genotype\n",
    "        # if child and parent have the same REF and ALT -> return the variant\n",
    "        if childGT == gt01:\n",
    "            if childALT[0] == parentALT[0]:\n",
    "                return True, childVariant\n",
    "        # parent has 0/1 genotype, child has 1/1 genotype\n",
    "        # if child and parent have the same REF and ALT -> child variant with 0/1 gt goes into intersection\n",
    "        elif childGT == gt11:\n",
    "            if childALT[0] == parentALT[0]:\n",
    "                next(childVariant.samples.itervalues())['GT'] = (0,1)\n",
    "                return True, childVariant\n",
    "        # parent has 0/1 genotype, child has 1/2 genotype\n",
    "        # if one of child's alts is the same as parent's alt-> return the variant\n",
    "        else :\n",
    "            if childALT[0] == parentALT[0] or childALT[1] == parentALT[0]:\n",
    "                next(childVariant.samples.itervalues())['GT'] = (0,1)\n",
    "                childVariant.alts = parentVariant.alts\n",
    "                return True, childVariant\n",
    "    elif parentGT == gt11:\n",
    "        # parent has 1/1 genotype, child has 0/1 genotype\n",
    "        # if child's alt is the same as parent's alt -> return the variant\n",
    "        if childGT == gt01:\n",
    "            if childALT[0] == parentALT[0]:\n",
    "                return True, childVariant\n",
    "        # parent has 1/1 genotype, child has 1/1 genotype\n",
    "        # if child's alt is the same as parent's alt-> return the variant\n",
    "        elif childGT == gt11:\n",
    "            if childALT[0] == parentALT[0]:\n",
    "                next(childVariant.samples.itervalues())['GT'] = (0,1)\n",
    "                return True, childVariant\n",
    "        # parent has 1/1 genotype, child has 1/2 genotype\n",
    "        # if one of child's alts is the same as parent's-> return the variant\n",
    "        else :\n",
    "            if childALT[0] == parentALT[0] or childALT[1] == parentALT[0]:\n",
    "                next(childVariant.samples.itervalues())['GT'] = (0,1)\n",
    "                childVariant.alts = parentVariant.alts\n",
    "                return True, childVariant\n",
    "    else :\n",
    "        # parent has 1/2 genotype, child has 0/1 genotype\n",
    "        # if child's alt is the same as one of parent's alts-> return the variant\n",
    "        if childGT == gt01:\n",
    "            if childALT[0] == parentALT[0] or childALT[0] == parentALT[1]:\n",
    "                next(childVariant.samples.itervalues())['GT'] = (0,1)\n",
    "                return True, childVariant\n",
    "        #parent has 1/2 genotype, child has 1/1 genotype\n",
    "        elif childGT == gt11:\n",
    "            if childALT[0] == parentALT[0] or childALT[0] == parentALT[1]:\n",
    "                next(childVariant.samples.itervalues())['GT'] = (0,1)\n",
    "                return True, childVariant\n",
    "        #parent has 1/2 genotype, child has 1/2 genotype\n",
    "        else :\n",
    "            if childALT[0] == parentALT[0] or childALT[0] == parentALT[1]:\n",
    "                next(childVariant.samples.itervalues())['GT'] = (0,1)\n",
    "                childVariant.alts = (childALT[0],)\n",
    "                return True, childVariant\n",
    "            elif childALT[1] == parentALT[0] or childALT[1] == parentALT[1]:\n",
    "                next(childVariant.samples.itervalues())['GT'] = (0,1)\n",
    "                childVariant.alts = (childALT[1],)\n",
    "                return True, childVariant\n",
    "    \n",
    "    return False, None"
   ]
  },
  {
   "cell_type": "code",
   "execution_count": 90,
   "id": "c87e063c",
   "metadata": {},
   "outputs": [],
   "source": [
    "def findIntersection(childVCF, parentVCF, outputFileName):\n",
    "    # check filename extension -----------------------\n",
    "    outputVCF = VariantFile(outputFileName, 'w', header=childVCF.header)\n",
    "    chrom = \"\"\n",
    "    for (childVariant, parentVariant) in zip(childVCF.fetch(),parentVCF.fetch()):\n",
    "        # sex chromosomes are skipped -------------------\n",
    "        if childVariant.chrom == \"chrX\" or parentVariant.chrom == \"chrX\": \n",
    "            return\n",
    "        #find the same variant position on the same chromosome for both\n",
    "        while childVariant.pos != parentVariant.pos or childVariant.chrom != parentVariant.chrom:\n",
    "            while childVariant.pos > parentVariant.pos:\n",
    "                if childVariant.chrom != parentVariant.chrom:\n",
    "                    childVariant = next(childVCF, None) \n",
    "                else:\n",
    "                    parentVariant = next(parentVCF, None)\n",
    "                if parentVariant is None or childVariant is None or parentVariant.chrom == \"chrX\" or childVariant.chrom == \"chrX\": \n",
    "                    return\n",
    "            while childVariant.pos < parentVariant.pos:\n",
    "                if childVariant.chrom != parentVariant.chrom:\n",
    "                    parentVariant = next(parentVCF, None)\n",
    "                else:\n",
    "                    childVariant = next(childVCF, None) \n",
    "                if parentVariant is None or childVariant is None or parentVariant.chrom == \"chrX\" or childVariant.chrom == \"chrX\": \n",
    "                    return\n",
    "        \n",
    "        #child variant position and parent variant position are matched\n",
    "        condition, variant = checkPosIntersection(childVariant, parentVariant)\n",
    "        if condition: \n",
    "            outputVCF.write(variant)\n",
    "    outputVCF.close()"
   ]
  },
  {
   "cell_type": "code",
   "execution_count": 91,
   "id": "b009eee9",
   "metadata": {},
   "outputs": [],
   "source": [
    "findIntersection(childVCF, motherVCF, \"outputCM.vcf\")"
   ]
  },
  {
   "cell_type": "code",
   "execution_count": null,
   "id": "eab660b7",
   "metadata": {},
   "outputs": [],
   "source": []
  }
 ],
 "metadata": {
  "kernelspec": {
   "display_name": "Python 3",
   "language": "python",
   "name": "python3"
  },
  "language_info": {
   "codemirror_mode": {
    "name": "ipython",
    "version": 3
   },
   "file_extension": ".py",
   "mimetype": "text/x-python",
   "name": "python",
   "nbconvert_exporter": "python",
   "pygments_lexer": "ipython3",
   "version": "3.8.5"
  }
 },
 "nbformat": 4,
 "nbformat_minor": 5
}
