{
 "cells": [
  {
   "cell_type": "code",
   "execution_count": 31,
   "id": "6d467c5b",
   "metadata": {},
   "outputs": [],
   "source": [
    "from pysam import VariantFile"
   ]
  },
  {
   "cell_type": "code",
   "execution_count": 32,
   "id": "a6869932",
   "metadata": {},
   "outputs": [],
   "source": [
    "childVCF = VariantFile(\"HG002-NA24385-50x_filtered.vcf\")\n",
    "fatherVCF = VariantFile(\"HG003.hs37d5.60x.1.converted_filtered.vcf\")\n",
    "motherVCF = VariantFile(\"HG004.hs37d5.60x.1.converted_filtered.vcf\")"
   ]
  },
  {
   "cell_type": "code",
   "execution_count": 35,
   "id": "91bb4ccc",
   "metadata": {},
   "outputs": [],
   "source": [
    "def findMaxChromPos(VCFs):\n",
    "    maxPos = 0\n",
    "    for vcf in VCFs:  \n",
    "        for rec in vcf.fetch():\n",
    "            maxPos = max(maxPos, rec.pos)\n",
    "    return maxPos, len(str(abs(maxPos)))"
   ]
  },
  {
   "cell_type": "code",
   "execution_count": 36,
   "id": "7d5c1a4a",
   "metadata": {},
   "outputs": [
    {
     "name": "stdout",
     "output_type": "stream",
     "text": [
      "Maximum position among all chromosomes: 248946405 digits: 9\n"
     ]
    }
   ],
   "source": [
    "VCFs = (childVCF, fatherVCF, motherVCF)\n",
    "count, digits = findMaxChromPos(VCFs)\n",
    "print(\"Maximum position among all chromosomes: \" + str(count) + \" digits: \" + str(digits))"
   ]
  }
 ],
 "metadata": {
  "kernelspec": {
   "display_name": "Python 3",
   "language": "python",
   "name": "python3"
  },
  "language_info": {
   "codemirror_mode": {
    "name": "ipython",
    "version": 3
   },
   "file_extension": ".py",
   "mimetype": "text/x-python",
   "name": "python",
   "nbconvert_exporter": "python",
   "pygments_lexer": "ipython3",
   "version": "3.8.5"
  }
 },
 "nbformat": 4,
 "nbformat_minor": 5
}
